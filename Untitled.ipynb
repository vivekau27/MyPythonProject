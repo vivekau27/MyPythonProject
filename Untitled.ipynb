{
 "cells": [
  {
   "cell_type": "code",
   "execution_count": 4,
   "id": "edabae3d",
   "metadata": {},
   "outputs": [
    {
     "name": "stdout",
     "output_type": "stream",
     "text": [
      "Defaulting to user installation because normal site-packages is not writeable\n",
      "Collecting pyspark\n",
      "  Downloading pyspark-3.2.1.tar.gz (281.4 MB)\n",
      "\u001b[2K     \u001b[90m━━━━━━━━━━━━━━━━━━━━━━━━━━━━━━━━━━━━━━━\u001b[0m \u001b[32m281.4/281.4 MB\u001b[0m \u001b[31m1.3 MB/s\u001b[0m eta \u001b[36m0:00:00\u001b[0m00:01\u001b[0m00:04\u001b[0m\n",
      "\u001b[?25h  Preparing metadata (setup.py) ... \u001b[?25ldone\n",
      "\u001b[?25hCollecting py4j==0.10.9.3\n",
      "  Downloading py4j-0.10.9.3-py2.py3-none-any.whl (198 kB)\n",
      "\u001b[2K     \u001b[90m━━━━━━━━━━━━━━━━━━━━━━━━━━━━━━━━━━━━━━━\u001b[0m \u001b[32m199.0/199.0 KB\u001b[0m \u001b[31m2.0 MB/s\u001b[0m eta \u001b[36m0:00:00\u001b[0m00:01\u001b[0m00:01\u001b[0m\n",
      "\u001b[?25hBuilding wheels for collected packages: pyspark\n",
      "  Building wheel for pyspark (setup.py) ... \u001b[?25ldone\n",
      "\u001b[?25h  Created wheel for pyspark: filename=pyspark-3.2.1-py2.py3-none-any.whl size=281853642 sha256=bce381da07ce6b627fff614db09e6515cb8ad1028672b295b29c108e888fe9ed\n",
      "  Stored in directory: /Users/vivekkaushik/Library/Caches/pip/wheels/58/94/83/915c9059e4b038e2d43a6058f307fe1c3e8536e5745f3b23b7\n",
      "Successfully built pyspark\n",
      "Installing collected packages: py4j, pyspark\n",
      "Successfully installed py4j-0.10.9.3 pyspark-3.2.1\n",
      "Note: you may need to restart the kernel to use updated packages.\n"
     ]
    }
   ],
   "source": [
    "pip install pyspark"
   ]
  },
  {
   "cell_type": "code",
   "execution_count": 8,
   "id": "08d32321",
   "metadata": {},
   "outputs": [
    {
     "name": "stderr",
     "output_type": "stream",
     "text": [
      "                                                                                \r"
     ]
    },
    {
     "name": "stdout",
     "output_type": "stream",
     "text": [
      "root\n",
      " |-- alternate_names: array (nullable = true)\n",
      " |    |-- element: string (containsNull = true)\n",
      " |-- authors: array (nullable = true)\n",
      " |    |-- element: struct (containsNull = true)\n",
      " |    |    |-- author: struct (nullable = true)\n",
      " |    |    |    |-- key: string (nullable = true)\n",
      " |    |    |-- key: string (nullable = true)\n",
      " |    |    |-- type: string (nullable = true)\n",
      " |-- bio: string (nullable = true)\n",
      " |-- birth_date: string (nullable = true)\n",
      " |-- by_statement: string (nullable = true)\n",
      " |-- contributions: array (nullable = true)\n",
      " |    |-- element: string (containsNull = true)\n",
      " |-- contributors: array (nullable = true)\n",
      " |    |-- element: struct (containsNull = true)\n",
      " |    |    |-- name: string (nullable = true)\n",
      " |    |    |-- role: string (nullable = true)\n",
      " |-- copyright_date: string (nullable = true)\n",
      " |-- covers: array (nullable = true)\n",
      " |    |-- element: long (containsNull = true)\n",
      " |-- created: struct (nullable = true)\n",
      " |    |-- type: string (nullable = true)\n",
      " |    |-- value: string (nullable = true)\n",
      " |-- death_date: string (nullable = true)\n",
      " |-- description: string (nullable = true)\n",
      " |-- dewey_decimal_class: array (nullable = true)\n",
      " |    |-- element: string (containsNull = true)\n",
      " |-- dewey_number: array (nullable = true)\n",
      " |    |-- element: string (containsNull = true)\n",
      " |-- download_url: array (nullable = true)\n",
      " |    |-- element: string (containsNull = true)\n",
      " |-- edition_name: string (nullable = true)\n",
      " |-- excerpts: array (nullable = true)\n",
      " |    |-- element: struct (containsNull = true)\n",
      " |    |    |-- excerpt: struct (nullable = true)\n",
      " |    |    |    |-- type: string (nullable = true)\n",
      " |    |    |    |-- value: string (nullable = true)\n",
      " |    |    |-- page: string (nullable = true)\n",
      " |-- first_publish_date: string (nullable = true)\n",
      " |-- first_sentence: string (nullable = true)\n",
      " |-- full_title: string (nullable = true)\n",
      " |-- fuller_name: string (nullable = true)\n",
      " |-- genres: array (nullable = true)\n",
      " |    |-- element: string (containsNull = true)\n",
      " |-- ia_box_id: array (nullable = true)\n",
      " |    |-- element: string (containsNull = true)\n",
      " |-- ia_loaded_id: string (nullable = true)\n",
      " |-- identifiers: struct (nullable = true)\n",
      " |    |-- amazon: array (nullable = true)\n",
      " |    |    |-- element: string (containsNull = true)\n",
      " |    |-- amazon.co.uk_asin: array (nullable = true)\n",
      " |    |    |-- element: string (containsNull = true)\n",
      " |    |-- goodreads: array (nullable = true)\n",
      " |    |    |-- element: string (containsNull = true)\n",
      " |    |-- librarything: array (nullable = true)\n",
      " |    |    |-- element: string (containsNull = true)\n",
      " |-- isbn_10: array (nullable = true)\n",
      " |    |-- element: string (containsNull = true)\n",
      " |-- isbn_13: array (nullable = true)\n",
      " |    |-- element: string (containsNull = true)\n",
      " |-- isbn_invalid: array (nullable = true)\n",
      " |    |-- element: string (containsNull = true)\n",
      " |-- isbn_odd_length: array (nullable = true)\n",
      " |    |-- element: string (containsNull = true)\n",
      " |-- key: string (nullable = true)\n",
      " |-- languages: array (nullable = true)\n",
      " |    |-- element: struct (containsNull = true)\n",
      " |    |    |-- key: string (nullable = true)\n",
      " |-- last_modified: struct (nullable = true)\n",
      " |    |-- type: string (nullable = true)\n",
      " |    |-- value: string (nullable = true)\n",
      " |-- latest_revision: long (nullable = true)\n",
      " |-- lc_classifications: array (nullable = true)\n",
      " |    |-- element: string (containsNull = true)\n",
      " |-- lccn: array (nullable = true)\n",
      " |    |-- element: string (containsNull = true)\n",
      " |-- links: array (nullable = true)\n",
      " |    |-- element: struct (containsNull = true)\n",
      " |    |    |-- title: string (nullable = true)\n",
      " |    |    |-- type: struct (nullable = true)\n",
      " |    |    |    |-- key: string (nullable = true)\n",
      " |    |    |-- url: string (nullable = true)\n",
      " |-- location: string (nullable = true)\n",
      " |-- name: string (nullable = true)\n",
      " |-- notes: string (nullable = true)\n",
      " |-- number_of_pages: long (nullable = true)\n",
      " |-- ocaid: string (nullable = true)\n",
      " |-- oclc_number: array (nullable = true)\n",
      " |    |-- element: string (containsNull = true)\n",
      " |-- oclc_numbers: array (nullable = true)\n",
      " |    |-- element: string (containsNull = true)\n",
      " |-- other_titles: array (nullable = true)\n",
      " |    |-- element: string (containsNull = true)\n",
      " |-- pagination: string (nullable = true)\n",
      " |-- personal_name: string (nullable = true)\n",
      " |-- photos: array (nullable = true)\n",
      " |    |-- element: long (containsNull = true)\n",
      " |-- physical_dimensions: string (nullable = true)\n",
      " |-- physical_format: string (nullable = true)\n",
      " |-- publish_country: string (nullable = true)\n",
      " |-- publish_date: string (nullable = true)\n",
      " |-- publish_places: array (nullable = true)\n",
      " |    |-- element: string (containsNull = true)\n",
      " |-- publishers: array (nullable = true)\n",
      " |    |-- element: string (containsNull = true)\n",
      " |-- purchase_url: array (nullable = true)\n",
      " |    |-- element: string (containsNull = true)\n",
      " |-- revision: long (nullable = true)\n",
      " |-- series: array (nullable = true)\n",
      " |    |-- element: string (containsNull = true)\n",
      " |-- source_records: array (nullable = true)\n",
      " |    |-- element: string (containsNull = true)\n",
      " |-- subject_people: array (nullable = true)\n",
      " |    |-- element: string (containsNull = true)\n",
      " |-- subject_place: array (nullable = true)\n",
      " |    |-- element: string (containsNull = true)\n",
      " |-- subject_places: array (nullable = true)\n",
      " |    |-- element: string (containsNull = true)\n",
      " |-- subject_time: array (nullable = true)\n",
      " |    |-- element: string (containsNull = true)\n",
      " |-- subject_times: array (nullable = true)\n",
      " |    |-- element: string (containsNull = true)\n",
      " |-- subjects: array (nullable = true)\n",
      " |    |-- element: string (containsNull = true)\n",
      " |-- subtitle: string (nullable = true)\n",
      " |-- table_of_contents: array (nullable = true)\n",
      " |    |-- element: struct (containsNull = true)\n",
      " |    |    |-- class: string (nullable = true)\n",
      " |    |    |-- label: string (nullable = true)\n",
      " |    |    |-- level: long (nullable = true)\n",
      " |    |    |-- pagenum: string (nullable = true)\n",
      " |    |    |-- title: string (nullable = true)\n",
      " |    |    |-- type: string (nullable = true)\n",
      " |    |    |-- value: string (nullable = true)\n",
      " |-- title: string (nullable = true)\n",
      " |-- title_prefix: string (nullable = true)\n",
      " |-- type: struct (nullable = true)\n",
      " |    |-- key: string (nullable = true)\n",
      " |-- uri_descriptions: array (nullable = true)\n",
      " |    |-- element: string (containsNull = true)\n",
      " |-- uris: array (nullable = true)\n",
      " |    |-- element: string (containsNull = true)\n",
      " |-- url: array (nullable = true)\n",
      " |    |-- element: string (containsNull = true)\n",
      " |-- website: string (nullable = true)\n",
      " |-- weight: string (nullable = true)\n",
      " |-- work_title: array (nullable = true)\n",
      " |    |-- element: string (containsNull = true)\n",
      " |-- work_titles: array (nullable = true)\n",
      " |    |-- element: string (containsNull = true)\n",
      " |-- works: array (nullable = true)\n",
      " |    |-- element: struct (containsNull = true)\n",
      " |    |    |-- key: string (nullable = true)\n",
      "\n",
      "The number of columns in dataframe are : 76\n",
      "************************************************************\n",
      "Printing the columns now\n",
      "['alternate_names', 'authors', 'bio', 'birth_date', 'by_statement', 'contributions', 'contributors', 'copyright_date', 'covers', 'created', 'death_date', 'description', 'dewey_decimal_class', 'dewey_number', 'download_url', 'edition_name', 'excerpts', 'first_publish_date', 'first_sentence', 'full_title', 'fuller_name', 'genres', 'ia_box_id', 'ia_loaded_id', 'identifiers', 'isbn_10', 'isbn_13', 'isbn_invalid', 'isbn_odd_length', 'key', 'languages', 'last_modified', 'latest_revision', 'lc_classifications', 'lccn', 'links', 'location', 'name', 'notes', 'number_of_pages', 'ocaid', 'oclc_number', 'oclc_numbers', 'other_titles', 'pagination', 'personal_name', 'photos', 'physical_dimensions', 'physical_format', 'publish_country', 'publish_date', 'publish_places', 'publishers', 'purchase_url', 'revision', 'series', 'source_records', 'subject_people', 'subject_place', 'subject_places', 'subject_time', 'subject_times', 'subjects', 'subtitle', 'table_of_contents', 'title', 'title_prefix', 'type', 'uri_descriptions', 'uris', 'url', 'website', 'weight', 'work_title', 'work_titles', 'works']\n",
      "************************************************************\n"
     ]
    },
    {
     "name": "stderr",
     "output_type": "stream",
     "text": [
      "\r",
      "[Stage 12:>                                                         (0 + 1) / 2]\r"
     ]
    },
    {
     "name": "stdout",
     "output_type": "stream",
     "text": [
      "Total count of Dataframe rows is: 148163\n"
     ]
    },
    {
     "name": "stderr",
     "output_type": "stream",
     "text": [
      "\r",
      "                                                                                \r"
     ]
    }
   ],
   "source": [
    "import pyspark\n",
    "from pyspark.sql import SparkSession\n",
    "spark = SparkSession.builder \\\n",
    "                    .master('local[1]') \\\n",
    "                    .appName('CASE_STUDY') \\\n",
    "                    .getOrCreate()\n",
    "my_df= spark.read.json(\"///Users/vivekkaushik/Downloads/ol_cdump.json\")\n",
    "my_df.printSchema()\n",
    "print(\"The number of columns in dataframe are :\",len(my_df.columns))\n",
    "print(\"************************************************************\")\n",
    "print(\"Printing the columns now\")\n",
    "print(my_df.columns)\n",
    "print(\"************************************************************\")\n",
    "print(\"Total count of Dataframe rows is:\",my_df.count())"
   ]
  },
  {
   "cell_type": "code",
   "execution_count": 3,
   "id": "992225d6",
   "metadata": {},
   "outputs": [
    {
     "data": {
      "text/plain": [
       "148163"
      ]
     },
     "execution_count": 3,
     "metadata": {},
     "output_type": "execute_result"
    }
   ],
   "source": [
    "my_df.count()"
   ]
  },
  {
   "cell_type": "code",
   "execution_count": 5,
   "id": "35aa3f5c",
   "metadata": {},
   "outputs": [],
   "source": [
    "from pyspark.sql.functions import col"
   ]
  },
  {
   "cell_type": "code",
   "execution_count": 7,
   "id": "7f31b028",
   "metadata": {},
   "outputs": [
    {
     "name": "stderr",
     "output_type": "stream",
     "text": [
      "\r",
      "[Stage 9:>                                                          (0 + 1) / 1]\r"
     ]
    },
    {
     "name": "stdout",
     "output_type": "stream",
     "text": [
      "+-----------------------------------+----------+----+------------------------+\n",
      "|authors                            |full_title|name|contributors            |\n",
      "+-----------------------------------+----------+----+------------------------+\n",
      "|[{null, /authors/OL4946812A, null}]|null      |null|[{Imroz, Book Designer}]|\n",
      "+-----------------------------------+----------+----+------------------------+\n",
      "\n"
     ]
    },
    {
     "name": "stderr",
     "output_type": "stream",
     "text": [
      "\r",
      "                                                                                \r"
     ]
    }
   ],
   "source": [
    "my_df.where(col(\"contributors\").isNotNull()).where(col(\"authors\").isNotNull()).select('authors','full_title','name','contributors').show(truncate=False)"
   ]
  },
  {
   "cell_type": "code",
   "execution_count": 18,
   "id": "b360afc8",
   "metadata": {},
   "outputs": [
    {
     "name": "stdout",
     "output_type": "stream",
     "text": [
      "+--------------------------------------------------------------------------------------------------------------------+-----------------------------------------------------------------------------------------------------+-----------------------------------+------------+\n",
      "|by_statement                                                                                                        |title                                                                                                |authors                            |contributors|\n",
      "+--------------------------------------------------------------------------------------------------------------------+-----------------------------------------------------------------------------------------------------+-----------------------------------+------------+\n",
      "|by Lillian Rose Arnold                                                                                              |The effect of differentiated marking tools and motivational treatment on figural creativity          |[{null, /authors/OL6535896A, null}]|null        |\n",
      "|by Walter Edward Stead                                                                                              |Comparison of the nominal grouping and sequenced brainstorming techniques of creative idea generation|[{null, /authors/OL6535897A, null}]|null        |\n",
      "|by Raymond L. Kuhlman                                                                                               |Professional accident investigation                                                                  |[{null, /authors/OL6535898A, null}]|null        |\n",
      "|a cura di Sergio Rossi                                                                                              |I chauceriani scozzesi                                                                               |[{null, /authors/OL5900510A, null}]|null        |\n",
      "|Francesco de Sanctis ; a cura di Sergio Romagnoli                                                                   |Lezioni zurighesi sul Petrarca                                                                       |[{null, /authors/OL135548A, null}] |null        |\n",
      "|E. Junceda Avello                                                                                                   |El saber ginecologico del padre Feijoo                                                               |[{null, /authors/OL6535899A, null}]|null        |\n",
      "|herausgegeben von Adalbert Bezzenberger                                                                             |Litauische und lettische Drucke des 16. Jahrhunderts                                                 |[{null, /authors/OL4476275A, null}]|null        |\n",
      "|by E. J. H. Greene, Manoël Faucher, Dennis M. Healy ; illus. by Franc̦ois Bret ; tapes produced by Edward Marxheimer|Reflex French                                                                                        |[{null, /authors/OL133670A, null}] |null        |\n",
      "|by Michael B. Leach                                                                                                 |Some aspects of the relationship between creativity and self-disclosure                              |[{null, /authors/OL6535900A, null}]|null        |\n",
      "|by John T. Matthews                                                                                                 |Creative responses to time in the novels of William Faulkner                                         |[{null, /authors/OL6535901A, null}]|null        |\n",
      "+--------------------------------------------------------------------------------------------------------------------+-----------------------------------------------------------------------------------------------------+-----------------------------------+------------+\n",
      "only showing top 10 rows\n",
      "\n"
     ]
    }
   ],
   "source": [
    "my_df.select('by_statement','title','authors','contributors').where(col('by_statement').isNotNull()).where(col('authors').isNotNull()).show(10,truncate=False)"
   ]
  },
  {
   "cell_type": "code",
   "execution_count": 19,
   "id": "c1626b59",
   "metadata": {},
   "outputs": [
    {
     "name": "stdout",
     "output_type": "stream",
     "text": [
      "+--------------------------------------------------------------------------------------------------------------------+-----------------------------------------------------------------------------------------------------+-----------------------------------+------------+----------+-----------+----------------------+\n",
      "|by_statement                                                                                                        |title                                                                                                |authors                            |contributors|work_title|work_titles|works                 |\n",
      "+--------------------------------------------------------------------------------------------------------------------+-----------------------------------------------------------------------------------------------------+-----------------------------------+------------+----------+-----------+----------------------+\n",
      "|by Lillian Rose Arnold                                                                                              |The effect of differentiated marking tools and motivational treatment on figural creativity          |[{null, /authors/OL6535896A, null}]|null        |null      |null       |[{/works/OL13681062W}]|\n",
      "|by Walter Edward Stead                                                                                              |Comparison of the nominal grouping and sequenced brainstorming techniques of creative idea generation|[{null, /authors/OL6535897A, null}]|null        |null      |null       |[{/works/OL13681063W}]|\n",
      "|by Raymond L. Kuhlman                                                                                               |Professional accident investigation                                                                  |[{null, /authors/OL6535898A, null}]|null        |null      |null       |[{/works/OL13681064W}]|\n",
      "|a cura di Sergio Rossi                                                                                              |I chauceriani scozzesi                                                                               |[{null, /authors/OL5900510A, null}]|null        |null      |null       |[{/works/OL12983281W}]|\n",
      "|Francesco de Sanctis ; a cura di Sergio Romagnoli                                                                   |Lezioni zurighesi sul Petrarca                                                                       |[{null, /authors/OL135548A, null}] |null        |null      |null       |[{/works/OL1330425W}] |\n",
      "|E. Junceda Avello                                                                                                   |El saber ginecologico del padre Feijoo                                                               |[{null, /authors/OL6535899A, null}]|null        |null      |null       |[{/works/OL13681065W}]|\n",
      "|herausgegeben von Adalbert Bezzenberger                                                                             |Litauische und lettische Drucke des 16. Jahrhunderts                                                 |[{null, /authors/OL4476275A, null}]|null        |null      |null       |[{/works/OL10708453W}]|\n",
      "|by E. J. H. Greene, Manoël Faucher, Dennis M. Healy ; illus. by Franc̦ois Bret ; tapes produced by Edward Marxheimer|Reflex French                                                                                        |[{null, /authors/OL133670A, null}] |null        |null      |null       |[{/works/OL1314746W}] |\n",
      "|by Michael B. Leach                                                                                                 |Some aspects of the relationship between creativity and self-disclosure                              |[{null, /authors/OL6535900A, null}]|null        |null      |null       |[{/works/OL13681066W}]|\n",
      "|by John T. Matthews                                                                                                 |Creative responses to time in the novels of William Faulkner                                         |[{null, /authors/OL6535901A, null}]|null        |null      |null       |[{/works/OL13681067W}]|\n",
      "+--------------------------------------------------------------------------------------------------------------------+-----------------------------------------------------------------------------------------------------+-----------------------------------+------------+----------+-----------+----------------------+\n",
      "only showing top 10 rows\n",
      "\n"
     ]
    },
    {
     "name": "stderr",
     "output_type": "stream",
     "text": [
      "22/02/06 21:57:00 WARN HeartbeatReceiver: Removing executor driver with no recent heartbeats: 265501 ms exceeds timeout 120000 ms\n",
      "22/02/06 21:57:01 WARN SparkContext: Killing executors is not supported by current scheduler.\n"
     ]
    }
   ],
   "source": [
    "my_df.select('by_statement','title','authors','contributors','work_title','work_titles','works').where(col('by_statement').isNotNull()).where(col('authors').isNotNull()).show(10,truncate=False)"
   ]
  },
  {
   "cell_type": "code",
   "execution_count": null,
   "id": "27291e80",
   "metadata": {},
   "outputs": [],
   "source": []
  }
 ],
 "metadata": {
  "kernelspec": {
   "display_name": "Python 3 (ipykernel)",
   "language": "python",
   "name": "python3"
  },
  "language_info": {
   "codemirror_mode": {
    "name": "ipython",
    "version": 3
   },
   "file_extension": ".py",
   "mimetype": "text/x-python",
   "name": "python",
   "nbconvert_exporter": "python",
   "pygments_lexer": "ipython3",
   "version": "3.8.2"
  }
 },
 "nbformat": 4,
 "nbformat_minor": 5
}
